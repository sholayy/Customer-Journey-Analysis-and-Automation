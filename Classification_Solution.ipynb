{
 "cells": [
  {
   "cell_type": "code",
   "execution_count": 1,
   "metadata": {},
   "outputs": [
    {
     "name": "stderr",
     "output_type": "stream",
     "text": [
      "/home/dataguy/.local/lib/python3.8/site-packages/pandas/core/computation/expressions.py:20: UserWarning: Pandas requires version '2.7.3' or newer of 'numexpr' (version '2.7.1' currently installed).\n",
      "  from pandas.core.computation.check import NUMEXPR_INSTALLED\n"
     ]
    }
   ],
   "source": [
    "import numpy as np\n",
    "import pandas as pd\n",
    "import matplotlib\n",
    "import matplotlib.pyplot as plt \n",
    "%matplotlib inline"
   ]
  },
  {
   "cell_type": "markdown",
   "metadata": {},
   "source": [
    "## DATA PREPARATION"
   ]
  },
  {
   "cell_type": "code",
   "execution_count": 37,
   "metadata": {},
   "outputs": [],
   "source": [
    "regs = pd.read_csv('/home/dataguy/classification/all_regs.txt', delimiter = ' ', names = ['day', 'my_date', 'my_time','user_id','event_type','birth_year','phone_type', 'location','source'])"
   ]
  },
  {
   "cell_type": "code",
   "execution_count": 38,
   "metadata": {},
   "outputs": [],
   "source": [
    "free_tree = pd.read_csv('/home/dataguy/classification/all_free.txt', delimiter = ' ', names = ['day', 'my_date', 'user_id', 'event_type'])"
   ]
  },
  {
   "cell_type": "code",
   "execution_count": 39,
   "metadata": {},
   "outputs": [],
   "source": [
    "super_tree = pd.read_csv('/home/dataguy/classification/all_super.txt', delimiter = ' ', names = ['day', 'my_date', 'user_id', 'event_type'])"
   ]
  },
  {
   "cell_type": "code",
   "execution_count": 40,
   "metadata": {},
   "outputs": [],
   "source": [
    "free_users = free_tree.groupby('user_id').count()[['event_type']].reset_index()"
   ]
  },
  {
   "cell_type": "code",
   "execution_count": 41,
   "metadata": {},
   "outputs": [],
   "source": [
    "super_users = super_tree.groupby('user_id').count()[['event_type']].reset_index()"
   ]
  },
  {
   "cell_type": "code",
   "execution_count": 42,
   "metadata": {},
   "outputs": [],
   "source": [
    "big_table = regs.merge(free_users, how = 'outer', on = 'user_id').merge(super_users, how = 'outer', on = 'user_id')"
   ]
  },
  {
   "cell_type": "code",
   "execution_count": 43,
   "metadata": {},
   "outputs": [
    {
     "data": {
      "text/html": [
       "<div>\n",
       "<style scoped>\n",
       "    .dataframe tbody tr th:only-of-type {\n",
       "        vertical-align: middle;\n",
       "    }\n",
       "\n",
       "    .dataframe tbody tr th {\n",
       "        vertical-align: top;\n",
       "    }\n",
       "\n",
       "    .dataframe thead th {\n",
       "        text-align: right;\n",
       "    }\n",
       "</style>\n",
       "<table border=\"1\" class=\"dataframe\">\n",
       "  <thead>\n",
       "    <tr style=\"text-align: right;\">\n",
       "      <th></th>\n",
       "      <th>day</th>\n",
       "      <th>my_date</th>\n",
       "      <th>my_time</th>\n",
       "      <th>user_id</th>\n",
       "      <th>event_type_x</th>\n",
       "      <th>birth_year</th>\n",
       "      <th>phone_type</th>\n",
       "      <th>location</th>\n",
       "      <th>source</th>\n",
       "      <th>event_type_y</th>\n",
       "      <th>event_type</th>\n",
       "    </tr>\n",
       "  </thead>\n",
       "  <tbody>\n",
       "    <tr>\n",
       "      <th>0</th>\n",
       "      <td>day_1</td>\n",
       "      <td>2024-05-10</td>\n",
       "      <td>00:32:11</td>\n",
       "      <td>1000001</td>\n",
       "      <td>registration</td>\n",
       "      <td>1983</td>\n",
       "      <td>android</td>\n",
       "      <td>sweden</td>\n",
       "      <td>invite_a_friend</td>\n",
       "      <td>5.0</td>\n",
       "      <td>NaN</td>\n",
       "    </tr>\n",
       "    <tr>\n",
       "      <th>1</th>\n",
       "      <td>day_1</td>\n",
       "      <td>2024-05-10</td>\n",
       "      <td>00:55:42</td>\n",
       "      <td>1000002</td>\n",
       "      <td>registration</td>\n",
       "      <td>1986</td>\n",
       "      <td>ios</td>\n",
       "      <td>united_states</td>\n",
       "      <td>invite_a_friend</td>\n",
       "      <td>4.0</td>\n",
       "      <td>NaN</td>\n",
       "    </tr>\n",
       "    <tr>\n",
       "      <th>2</th>\n",
       "      <td>day_1</td>\n",
       "      <td>2024-05-10</td>\n",
       "      <td>01:05:20</td>\n",
       "      <td>1000003</td>\n",
       "      <td>registration</td>\n",
       "      <td>1989</td>\n",
       "      <td>error</td>\n",
       "      <td>sweden</td>\n",
       "      <td>invite_a_friend</td>\n",
       "      <td>37.0</td>\n",
       "      <td>NaN</td>\n",
       "    </tr>\n",
       "    <tr>\n",
       "      <th>3</th>\n",
       "      <td>day_1</td>\n",
       "      <td>2024-05-10</td>\n",
       "      <td>01:23:24</td>\n",
       "      <td>1000004</td>\n",
       "      <td>registration</td>\n",
       "      <td>1994</td>\n",
       "      <td>error</td>\n",
       "      <td>germany</td>\n",
       "      <td>invite_a_friend</td>\n",
       "      <td>NaN</td>\n",
       "      <td>NaN</td>\n",
       "    </tr>\n",
       "    <tr>\n",
       "      <th>4</th>\n",
       "      <td>day_1</td>\n",
       "      <td>2024-05-10</td>\n",
       "      <td>01:24:16</td>\n",
       "      <td>1000005</td>\n",
       "      <td>registration</td>\n",
       "      <td>1986</td>\n",
       "      <td>ios</td>\n",
       "      <td>united_states</td>\n",
       "      <td>invite_a_friend</td>\n",
       "      <td>6.0</td>\n",
       "      <td>NaN</td>\n",
       "    </tr>\n",
       "  </tbody>\n",
       "</table>\n",
       "</div>"
      ],
      "text/plain": [
       "     day     my_date   my_time  user_id  event_type_x  birth_year phone_type  \\\n",
       "0  day_1  2024-05-10  00:32:11  1000001  registration        1983    android   \n",
       "1  day_1  2024-05-10  00:55:42  1000002  registration        1986        ios   \n",
       "2  day_1  2024-05-10  01:05:20  1000003  registration        1989      error   \n",
       "3  day_1  2024-05-10  01:23:24  1000004  registration        1994      error   \n",
       "4  day_1  2024-05-10  01:24:16  1000005  registration        1986        ios   \n",
       "\n",
       "        location           source  event_type_y  event_type  \n",
       "0         sweden  invite_a_friend           5.0         NaN  \n",
       "1  united_states  invite_a_friend           4.0         NaN  \n",
       "2         sweden  invite_a_friend          37.0         NaN  \n",
       "3        germany  invite_a_friend           NaN         NaN  \n",
       "4  united_states  invite_a_friend           6.0         NaN  "
      ]
     },
     "execution_count": 43,
     "metadata": {},
     "output_type": "execute_result"
    }
   ],
   "source": [
    "big_table.head()"
   ]
  },
  {
   "cell_type": "code",
   "execution_count": 44,
   "metadata": {},
   "outputs": [],
   "source": [
    "big_table = big_table[['user_id', 'phone_type', 'source', 'event_type_y', 'event_type']]"
   ]
  },
  {
   "cell_type": "code",
   "execution_count": 45,
   "metadata": {},
   "outputs": [],
   "source": [
    "big_table.columns = ['user_id', 'phone_type', 'source', 'free', 'super']"
   ]
  },
  {
   "cell_type": "code",
   "execution_count": 46,
   "metadata": {},
   "outputs": [],
   "source": [
    "big_table = big_table.fillna(value = 0)"
   ]
  },
  {
   "cell_type": "code",
   "execution_count": 47,
   "metadata": {},
   "outputs": [
    {
     "data": {
      "text/html": [
       "<div>\n",
       "<style scoped>\n",
       "    .dataframe tbody tr th:only-of-type {\n",
       "        vertical-align: middle;\n",
       "    }\n",
       "\n",
       "    .dataframe tbody tr th {\n",
       "        vertical-align: top;\n",
       "    }\n",
       "\n",
       "    .dataframe thead th {\n",
       "        text-align: right;\n",
       "    }\n",
       "</style>\n",
       "<table border=\"1\" class=\"dataframe\">\n",
       "  <thead>\n",
       "    <tr style=\"text-align: right;\">\n",
       "      <th></th>\n",
       "      <th>user_id</th>\n",
       "      <th>phone_type</th>\n",
       "      <th>source</th>\n",
       "      <th>free</th>\n",
       "      <th>super</th>\n",
       "    </tr>\n",
       "  </thead>\n",
       "  <tbody>\n",
       "    <tr>\n",
       "      <th>0</th>\n",
       "      <td>1000001</td>\n",
       "      <td>android</td>\n",
       "      <td>invite_a_friend</td>\n",
       "      <td>5.0</td>\n",
       "      <td>0.0</td>\n",
       "    </tr>\n",
       "    <tr>\n",
       "      <th>1</th>\n",
       "      <td>1000002</td>\n",
       "      <td>ios</td>\n",
       "      <td>invite_a_friend</td>\n",
       "      <td>4.0</td>\n",
       "      <td>0.0</td>\n",
       "    </tr>\n",
       "    <tr>\n",
       "      <th>2</th>\n",
       "      <td>1000003</td>\n",
       "      <td>error</td>\n",
       "      <td>invite_a_friend</td>\n",
       "      <td>37.0</td>\n",
       "      <td>0.0</td>\n",
       "    </tr>\n",
       "    <tr>\n",
       "      <th>3</th>\n",
       "      <td>1000004</td>\n",
       "      <td>error</td>\n",
       "      <td>invite_a_friend</td>\n",
       "      <td>0.0</td>\n",
       "      <td>0.0</td>\n",
       "    </tr>\n",
       "    <tr>\n",
       "      <th>4</th>\n",
       "      <td>1000005</td>\n",
       "      <td>ios</td>\n",
       "      <td>invite_a_friend</td>\n",
       "      <td>6.0</td>\n",
       "      <td>0.0</td>\n",
       "    </tr>\n",
       "  </tbody>\n",
       "</table>\n",
       "</div>"
      ],
      "text/plain": [
       "   user_id phone_type           source  free  super\n",
       "0  1000001    android  invite_a_friend   5.0    0.0\n",
       "1  1000002        ios  invite_a_friend   4.0    0.0\n",
       "2  1000003      error  invite_a_friend  37.0    0.0\n",
       "3  1000004      error  invite_a_friend   0.0    0.0\n",
       "4  1000005        ios  invite_a_friend   6.0    0.0"
      ]
     },
     "execution_count": 47,
     "metadata": {},
     "output_type": "execute_result"
    }
   ],
   "source": [
    "big_table.head()"
   ]
  },
  {
   "cell_type": "markdown",
   "metadata": {},
   "source": [
    "## VISUALIZATION"
   ]
  },
  {
   "cell_type": "code",
   "execution_count": 48,
   "metadata": {},
   "outputs": [],
   "source": [
    "android = big_table[big_table.phone_type == 'android'].reset_index()\n",
    "ios = big_table[big_table.phone_type == 'ios'].reset_index()"
   ]
  },
  {
   "cell_type": "code",
   "execution_count": 49,
   "metadata": {},
   "outputs": [
    {
     "data": {
      "image/png": "[encoded data removed]",
      "text/plain": [
       "<Figure size 640x480 with 1 Axes>"
      ]
     },
     "metadata": {},
     "output_type": "display_data"
    }
   ],
   "source": [
    "bins = np.linspace(0, 40, 40)\n",
    "x = android['free']\n",
    "y = ios['free']\n",
    "data = [x,y]\n",
    "plt.hist(data, bins, alpha = 0.5, color = ['g','r'])\n",
    "plt.show()"
   ]
  },
  {
   "cell_type": "code",
   "execution_count": 50,
   "metadata": {},
   "outputs": [],
   "source": [
    "x = android['super']\n",
    "y = ios['super']"
   ]
  },
  {
   "cell_type": "code",
   "execution_count": 51,
   "metadata": {},
   "outputs": [
    {
     "data": {
      "image/png": "[encoded data removed]",
      "text/plain": [
       "<Figure size 640x480 with 1 Axes>"
      ]
     },
     "metadata": {},
     "output_type": "display_data"
    }
   ],
   "source": [
    "bins = np.linspace(0, 15, 15)\n",
    "plt.hist(x, bins, alpha=0.5,color='green')\n",
    "plt.show()"
   ]
  },
  {
   "cell_type": "code",
   "execution_count": 52,
   "metadata": {},
   "outputs": [
    {
     "data": {
      "image/png": "[encoded data removed]",
      "text/plain": [
       "<Figure size 640x480 with 1 Axes>"
      ]
     },
     "metadata": {},
     "output_type": "display_data"
    }
   ],
   "source": [
    "bins = np.linspace(0, 10, 10)\n",
    "plt.hist(y, bins, alpha=0.5,color='red')\n",
    "plt.show()"
   ]
  },
  {
   "cell_type": "markdown",
   "metadata": {},
   "source": [
    "## MACHINE LEARNING"
   ]
  },
  {
   "cell_type": "code",
   "execution_count": 53,
   "metadata": {},
   "outputs": [],
   "source": [
    "unknown_values = big_table[big_table.phone_type == 'error']\n",
    "known_values = big_table[big_table.phone_type != 'error']"
   ]
  },
  {
   "cell_type": "code",
   "execution_count": 54,
   "metadata": {},
   "outputs": [
    {
     "name": "stderr",
     "output_type": "stream",
     "text": [
      "/tmp/ipykernel_870002/1282850374.py:3: SettingWithCopyWarning: \n",
      "A value is trying to be set on a copy of a slice from a DataFrame.\n",
      "Try using .loc[row_indexer,col_indexer] = value instead\n",
      "\n",
      "See the caveats in the documentation: https://pandas.pydata.org/pandas-docs/stable/user_guide/indexing.html#returning-a-view-versus-a-copy\n",
      "  known_values['phone_type'] = known_values['phone_type'].map(phone_type_dictionary)\n",
      "/tmp/ipykernel_870002/1282850374.py:4: SettingWithCopyWarning: \n",
      "A value is trying to be set on a copy of a slice from a DataFrame.\n",
      "Try using .loc[row_indexer,col_indexer] = value instead\n",
      "\n",
      "See the caveats in the documentation: https://pandas.pydata.org/pandas-docs/stable/user_guide/indexing.html#returning-a-view-versus-a-copy\n",
      "  known_values['source'] = known_values['source'].map(source_dictionary)\n"
     ]
    }
   ],
   "source": [
    "phone_type_dictionary = {'ios': 0, 'android': 1}\n",
    "source_dictionary = {'invite_a_friend': 0, 'google': 1, 'article': 2, 'paid': 3}\n",
    "known_values['phone_type'] = known_values['phone_type'].map(phone_type_dictionary)\n",
    "known_values['source'] = known_values['source'].map(source_dictionary)"
   ]
  },
  {
   "cell_type": "code",
   "execution_count": 55,
   "metadata": {},
   "outputs": [],
   "source": [
    "from sklearn.ensemble import RandomForestClassifier"
   ]
  },
  {
   "cell_type": "code",
   "execution_count": 56,
   "metadata": {},
   "outputs": [],
   "source": [
    "x = known_values[['free', 'super', 'source']]\n",
    "y = known_values['phone_type']"
   ]
  },
  {
   "cell_type": "code",
   "execution_count": 57,
   "metadata": {},
   "outputs": [],
   "source": [
    "model = RandomForestClassifier(n_estimators = 100)\n",
    "model = model.fit(x, y)"
   ]
  },
  {
   "cell_type": "code",
   "execution_count": 58,
   "metadata": {},
   "outputs": [
    {
     "name": "stderr",
     "output_type": "stream",
     "text": [
      "/tmp/ipykernel_870002/1222675496.py:1: SettingWithCopyWarning: \n",
      "A value is trying to be set on a copy of a slice from a DataFrame.\n",
      "Try using .loc[row_indexer,col_indexer] = value instead\n",
      "\n",
      "See the caveats in the documentation: https://pandas.pydata.org/pandas-docs/stable/user_guide/indexing.html#returning-a-view-versus-a-copy\n",
      "  unknown_values['source'] = unknown_values['source'].map(source_dictionary)\n"
     ]
    }
   ],
   "source": [
    "unknown_values['source'] = unknown_values['source'].map(source_dictionary)"
   ]
  },
  {
   "cell_type": "code",
   "execution_count": 59,
   "metadata": {},
   "outputs": [
    {
     "name": "stderr",
     "output_type": "stream",
     "text": [
      "/usr/local/lib/python3.8/dist-packages/sklearn/base.py:465: UserWarning: X does not have valid feature names, but RandomForestClassifier was fitted with feature names\n",
      "  warnings.warn(\n"
     ]
    },
    {
     "data": {
      "text/plain": [
       "array([1])"
      ]
     },
     "execution_count": 59,
     "metadata": {},
     "output_type": "execute_result"
    }
   ],
   "source": [
    "sample_user = [1, 6, 0]\n",
    "model.predict([sample_user])"
   ]
  },
  {
   "cell_type": "code",
   "execution_count": null,
   "metadata": {},
   "outputs": [],
   "source": [
    "\n",
    "for index, row in unknown_values.head(10).iterrows():\n",
    "    print(model.predict([[row['free'], row['super'], row['source']]]))"
   ]
  },
  {
   "cell_type": "markdown",
   "metadata": {},
   "source": [
    "## VALIDATION"
   ]
  },
  {
   "cell_type": "code",
   "execution_count": null,
   "metadata": {},
   "outputs": [],
   "source": [
    "phone_classification = []\n",
    "for index, row in unknown_values.head(5000).iterrows():\n",
    "    phone_classification.append(int(model.predict([[row['free'], row['super'], row['source']]])))"
   ]
  },
  {
   "cell_type": "code",
   "execution_count": 61,
   "metadata": {},
   "outputs": [],
   "source": [
    "features = unknown_values.head(5000)[['free', 'super', 'source']]\n",
    "phone_classification = model.predict(features)\n"
   ]
  },
  {
   "cell_type": "code",
   "execution_count": 62,
   "metadata": {},
   "outputs": [],
   "source": [
    "phone_classification_list = phone_classification.tolist()\n",
    "num_ones = phone_classification_list.count(1)\n",
    "num_zeros = phone_classification_list.count(0)"
   ]
  },
  {
   "cell_type": "code",
   "execution_count": null,
   "metadata": {},
   "outputs": [],
   "source": [
    "phone_classification.count(1), phone_classification.count(0)"
   ]
  },
  {
   "cell_type": "code",
   "execution_count": null,
   "metadata": {},
   "outputs": [],
   "source": [
    "classified_values = []\n",
    "for index, row in known_values.head(5000).iterrows():\n",
    "    classified_values.append(int(model.predict([[row['free'], row['super'], row['source']]])))"
   ]
  },
  {
   "cell_type": "code",
   "execution_count": 63,
   "metadata": {},
   "outputs": [],
   "source": [
    "features = known_values.head(5000)[['free', 'super', 'source']]\n",
    "classified_values = model.predict(features)\n"
   ]
  },
  {
   "cell_type": "code",
   "execution_count": 64,
   "metadata": {},
   "outputs": [],
   "source": [
    "real_values = list(known_values.phone_type)"
   ]
  },
  {
   "cell_type": "code",
   "execution_count": 65,
   "metadata": {},
   "outputs": [],
   "source": [
    "right = 0\n",
    "wrong = 0\n",
    "for i in range(0,5000):\n",
    "    if classified_values[i] == real_values[i]:\n",
    "        right = right + 1\n",
    "    else:\n",
    "        wrong = wrong + 1"
   ]
  },
  {
   "cell_type": "code",
   "execution_count": 66,
   "metadata": {},
   "outputs": [
    {
     "data": {
      "text/plain": [
       "0.7298"
      ]
     },
     "execution_count": 66,
     "metadata": {},
     "output_type": "execute_result"
    }
   ],
   "source": [
    "right / (wrong + right)"
   ]
  },
  {
   "cell_type": "code",
   "execution_count": null,
   "metadata": {},
   "outputs": [],
   "source": []
  }
 ],
 "metadata": {
  "kernelspec": {
   "display_name": "Python 3 (ipykernel)",
   "language": "python",
   "name": "python3"
  },
  "language_info": {
   "codemirror_mode": {
    "name": "ipython",
    "version": 3
   },
   "file_extension": ".py",
   "mimetype": "text/x-python",
   "name": "python",
   "nbconvert_exporter": "python",
   "pygments_lexer": "ipython3",
   "version": "3.8.10"
  }
 },
 "nbformat": 4,
 "nbformat_minor": 4
}
